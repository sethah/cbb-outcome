{
 "metadata": {
  "name": "",
  "signature": "sha256:15132a2caa5a408d01aa5f6473c52c36c4292b24be3424549e5f4e1814b91153"
 },
 "nbformat": 3,
 "nbformat_minor": 0,
 "worksheets": []
}